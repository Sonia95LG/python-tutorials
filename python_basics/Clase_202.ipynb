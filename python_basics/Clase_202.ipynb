{
 "cells": [
  {
   "cell_type": "markdown",
   "metadata": {
    "slideshow": {
     "slide_type": "-"
    }
   },
   "source": [
    "# Sistemas Inteligentes\n",
    "\n",
    "## Grado en Ingeniería Informática\n",
    "## Universidad de Burgos\n",
    "## José Francisco  Diez\n",
    "## Curso 2016-2017\n",
    "------"
   ]
  },
  {
   "cell_type": "markdown",
   "metadata": {},
   "source": [
    "## Salida estándar\n",
    "La función print:\n",
    "- Por defecto imprime los argumentos separados por espacios y acaba con un salto de linea.\n",
    "- Tiene un número arbitrario de argumentos que modifican el funcionamiento por defecto.\n",
    "\n"
   ]
  },
  {
   "cell_type": "code",
   "execution_count": 1,
   "metadata": {
    "collapsed": false
   },
   "outputs": [
    {
     "name": "stdout",
     "output_type": "stream",
     "text": [
      "5 10 20\n",
      "5;10;20\n",
      "5 10 20 continua\n",
      "La temperatura es  5\n"
     ]
    }
   ],
   "source": [
    "a = 5; b=10; c = 20\n",
    "d = \"La temperatura es \"\n",
    "print(a,b,c)\n",
    "print(a,b,c, sep=\";\") # cambia el separador\n",
    "\n",
    "print(a,b,c, end=\" \") # cambia el terminador, de salto de linea a espacio\n",
    "print(\"continua\")  # la siguiente sale seguida\n",
    "\n",
    "print(d,a)"
   ]
  },
  {
   "cell_type": "markdown",
   "metadata": {},
   "source": [
    "## Entrada estandar\n",
    "- Muestra un mensaje (opcional) y espera que el usuario introduzca caracteres y pulse intro.\n",
    "- Devuelve una cadena, sin salto de linea.\n",
    "- Hay que convertir la cadena a otros tipos para trabajar con ellos."
   ]
  },
  {
   "cell_type": "code",
   "execution_count": 2,
   "metadata": {
    "collapsed": false
   },
   "outputs": [
    {
     "name": "stdout",
     "output_type": "stream",
     "text": [
      "introduce un numero 5\n",
      "introduciste el 5\n",
      "el tipo introducido es <class 'str'>\n"
     ]
    }
   ],
   "source": [
    "a = input(\"introduce un numero \")\n",
    "print(\"introduciste el\", a)\n",
    "print(\"el tipo introducido es\", type(a))"
   ]
  },
  {
   "cell_type": "markdown",
   "metadata": {},
   "source": [
    "## Lectura y escritura e ficheros\n",
    "\n",
    "- Se utiliza la función open\n",
    "- El primer argumento es el nombre del fichero, el segundo el modo:\n",
    "    - 'r' lectura\n",
    "    - 'w' escritura\n",
    "    - 'r+' lectura y escritura\n",
    "    - 'w+' lectura y escritura (crea uno nuevo si no existe)\n",
    "    - 'rb' lectura binario\n",
    "    - 'wb' escritura binario.\n",
    "- close cierra el fichero"
   ]
  },
  {
   "cell_type": "code",
   "execution_count": 3,
   "metadata": {
    "collapsed": false
   },
   "outputs": [
    {
     "name": "stdout",
     "output_type": "stream",
     "text": [
      "Python es un lenguaje de programación interpretado cuya filosofía hace hincapié en una sintaxis que favorezca un código legible.\n",
      "\n",
      "Se trata de un lenguaje de programación multiparadigma, ya que soporta orientación a objetos, programación imperativa y, en menor medida, programación funcional. Es un lenguaje interpretado, usa tipado dinámico y es multiplataforma.\n",
      "\n",
      "Es administrado por la Python Software Foundation. Posee una licencia de código abierto, denominada Python Software Foundation License,1 que es compatible con la Licencia pública general de GNU a partir de la versión 2.1.1, e incompatible en ciertas versiones anteriores.\n",
      "\n"
     ]
    }
   ],
   "source": [
    "fp = open('datos.txt') #por defecto lo abre en modo lectura\n",
    "\n",
    "contenido = fp.read()\n",
    "print(contenido)"
   ]
  },
  {
   "cell_type": "markdown",
   "metadata": {},
   "source": [
    "### Lectura"
   ]
  },
  {
   "cell_type": "code",
   "execution_count": 4,
   "metadata": {
    "collapsed": false
   },
   "outputs": [
    {
     "name": "stdout",
     "output_type": "stream",
     "text": [
      "Pytho\n",
      "esta en la posicion 5\n",
      "Python es un lenguaje de programación interpretado cuya filosofía hace hincapié en una sintaxis que favorezca un código legible.\n",
      "\n",
      "['Python es un lenguaje de programación interpretado cuya filosofía hace hincapié en una sintaxis que favorezca un código legible.\\n', '\\n', 'Se trata de un lenguaje de programación multiparadigma, ya que soporta orientación a objetos, programación imperativa y, en menor medida, programación funcional. Es un lenguaje interpretado, usa tipado dinámico y es multiplataforma.\\n', '\\n', 'Es administrado por la Python Software Foundation. Posee una licencia de código abierto, denominada Python Software Foundation License,1 que es compatible con la Licencia pública general de GNU a partir de la versión 2.1.1, e incompatible en ciertas versiones anteriores.\\n']\n"
     ]
    }
   ],
   "source": [
    "fp.seek(0)     # Va al byte en la posición indicada (0 al principio)\n",
    "contenido = fp.read(5)  # solo lee 5 caracteres\n",
    "print(contenido)\n",
    "\n",
    "print(\"esta en la posicion\",fp.tell()) # devuelve la posicion\n",
    "\n",
    "fp.seek(0)     \n",
    "contenido = fp.readline() # lee una linea\n",
    "print(contenido)\n",
    "\n",
    "fp.seek(0)     \n",
    "lineas = fp.readlines()\n",
    "print(lineas)\n",
    "fp.close()"
   ]
  },
  {
   "cell_type": "markdown",
   "metadata": {},
   "source": [
    "### Escritura\n"
   ]
  },
  {
   "cell_type": "code",
   "execution_count": 5,
   "metadata": {
    "collapsed": false
   },
   "outputs": [
    {
     "name": "stdout",
     "output_type": "stream",
     "text": [
      "hola mundoEsto escribe\n",
      "varias lineas\n",
      "Print tambien puede escribir a fichero\n",
      "\n"
     ]
    }
   ],
   "source": [
    "import os\n",
    "\n",
    "name = \"nuevo.txt\"\n",
    "if os.path.exists(name):\n",
    "    fp = open(name, \"r+\")\n",
    "else:\n",
    "    fp = open(name, \"w+\")\n",
    "\n",
    "fp.write(\"hola mundo\")    #escribe una linea\n",
    "\n",
    "seq = [\"Esto escribe\\n\", \"varias lineas\\n\"]\n",
    "fp.writelines(seq)   #escribe una secuencia de lineas\n",
    "\n",
    "print(\"Print tambien puede escribir a fichero\", file =fp)\n",
    "\n",
    "\n",
    "fp.seek(0)\n",
    "print(fp.read())\n",
    "fp.close()"
   ]
  },
  {
   "cell_type": "markdown",
   "metadata": {},
   "source": [
    "## Excepciones\n",
    "\n",
    "Las excepciones son objetos que se lanzan en sucesos inexperados durante la ejecución. \n",
    "- Si no se capturan causan que el programa se detenta y muestre mensaje de error.\n",
    "- Se pueden lanzar voluntariamente con *raise* y se pueden capturar con *try* - *except*\n",
    "    - *try* se ejecuta en caso normal\n",
    "    - *except* se ejecuta si hay excepcion\n",
    "    - *finally* (opciona), se ejecuta tanto en el caso normal como el excepcional, ejemplo cerrar ficheros abiertos\n",
    "    \n",
    "```Python   \n",
    "def sqrt (x ):\n",
    "    if not isinstance(x, (int , float )):\n",
    "        raise TypeError( 'x must be numeric' )\n",
    "    elif x < 0:\n",
    "        raise ValueError( 'x cannot be negative' )\n",
    "# ...\n",
    "```\n",
    "Otro ejemplo\n",
    "\n",
    "```Python   \n",
    "try :\n",
    "    ratio = x / y\n",
    "except ZeroDivisionError :\n",
    "```"
   ]
  },
  {
   "cell_type": "markdown",
   "metadata": {},
   "source": [
    "# Entrada y salida en jupyter (widgets)\n",
    "\n",
    "Los widgets proporcionan elementos interactivos dentro de los notebooks de jupyter.\n",
    "\n",
    "Para usarlos hay que importar desde IPython.html.widgets\n",
    "```Python\n",
    "from ipywidgets import *\n",
    "```\n",
    "\n",
    "\n",
    "Un windget tiene dos partes:\n",
    "- Elemento UI/HTML que muestra se muestra en la celda.\n",
    "- Un *event handler* que deja especificar al programador que sucede cuando un valor cambia.\n",
    "\n",
    "Al crear un widget se muestra automáticamente. Se puede mostrar explicitamente usando *display()*\n",
    "\n"
   ]
  },
  {
   "cell_type": "code",
   "execution_count": 7,
   "metadata": {
    "collapsed": false
   },
   "outputs": [],
   "source": [
    "from ipywidgets import *\n"
   ]
  },
  {
   "cell_type": "code",
   "execution_count": 24,
   "metadata": {
    "collapsed": false
   },
   "outputs": [],
   "source": [
    "IntSlider()"
   ]
  },
  {
   "cell_type": "code",
   "execution_count": 10,
   "metadata": {
    "collapsed": false
   },
   "outputs": [],
   "source": [
    "# se puede llamar explicitamente a display y se muestra varias veces\n",
    "\n",
    "from IPython.display import display\n",
    "w = IntSlider()\n",
    "display(w)\n",
    "display(w)\n",
    "\n",
    "# con w.close() le hariamos desaparecer"
   ]
  },
  {
   "cell_type": "code",
   "execution_count": 26,
   "metadata": {
    "collapsed": false
   },
   "outputs": [
    {
     "name": "stdout",
     "output_type": "stream",
     "text": [
      "0\n"
     ]
    }
   ],
   "source": [
    "# Los widgets tienen propiedades\n",
    "print(w.value)   # si modificas el valor y  se ejecuta esta celda se actualiza"
   ]
  },
  {
   "cell_type": "code",
   "execution_count": 27,
   "metadata": {
    "collapsed": false
   },
   "outputs": [
    {
     "name": "stdout",
     "output_type": "stream",
     "text": [
      "['layout', 'value', 'background_color', 'font_size', '_range', 'visible', 'orientation', 'description', 'max', '_dom_classes', '_model_name', 'continuous_update', 'font_family', 'msg_throttle', 'readout', 'font_weight', 'font_style', 'color', 'step', '_view_name', '_view_module', '_model_module', 'min', 'slider_color', 'readout_format', 'disabled']\n"
     ]
    }
   ],
   "source": [
    "# keys almacena todas las propiedades de un widget\n",
    "print(w.keys)\n",
    "w.value=50 # se pueden cambiar"
   ]
  },
  {
   "cell_type": "markdown",
   "metadata": {},
   "source": [
    "## Widgets para entrada/salida de texto\n",
    "\n",
    "### Entrada"
   ]
  },
  {
   "cell_type": "code",
   "execution_count": 11,
   "metadata": {
    "collapsed": false
   },
   "outputs": [],
   "source": [
    "t=widgets.Text(\n",
    "    description='String:',\n",
    "    value='Hello World',\n",
    ")\n",
    "\n",
    "\n",
    "\n",
    "ta=widgets.Textarea(\n",
    "    description='String:',\n",
    "    value='Hello World',\n",
    ")\n",
    "\n",
    "\n",
    "# se puede poner texto normal y también latex\n",
    "# a algunos alumnos no les funciona\n",
    "#l=widgets.Label(\n",
    "#    value=\"$$\\\\frac{n!}{k!(n-k)!} = \\\\binom{n}{k}$$\",\n",
    "#)\n",
    "\n",
    "\n",
    "\n",
    "h=widgets.HTML(\n",
    "    value=\"Hello <b>World</b>\"\n",
    ")\n",
    "\n",
    "\n",
    "display(t)\n",
    "display(ta)\n",
    "display(l)\n",
    "display(h)\n"
   ]
  },
  {
   "cell_type": "markdown",
   "metadata": {},
   "source": [
    "### Salida"
   ]
  },
  {
   "cell_type": "code",
   "execution_count": 32,
   "metadata": {
    "collapsed": false
   },
   "outputs": [],
   "source": [
    "text=widgets.Text()\n",
    "display(text)\n",
    "\n",
    "# hay que definir una función 'handle' o manejador\n",
    "def handle_Text(sender):\n",
    "    print(\"has escrito\",sender.value)\n",
    "\n",
    "# esa función se ejecutara cuando se produzca el evento on_submit (pulsar intro)    \n",
    "text.on_submit(handle_Text)"
   ]
  },
  {
   "cell_type": "markdown",
   "metadata": {},
   "source": [
    "### Entrada salida numerica"
   ]
  },
  {
   "cell_type": "code",
   "execution_count": 33,
   "metadata": {
    "collapsed": false
   },
   "outputs": [],
   "source": [
    "# Se puede usar un FloatText o IntText que funciona exactamente igual que Text\n",
    "\n",
    "# o se puede usar un slider, Slider no tiene eventos, sino que registra todos los cambios\n",
    "\n",
    "slider = widgets.FloatSlider(\n",
    "    value=7.5,\n",
    "    min=5.0,\n",
    "    max=10.0,\n",
    "    step=0.1,\n",
    "    description='Test:',\n",
    ")\n",
    "\n",
    "\n",
    "display(slider)\n",
    "\n",
    "def handle_slider(sender):\n",
    "    print(sender['new'])\n",
    "\n",
    "\n",
    "slider.observe(handle_slider,names='value')\n",
    "\n",
    "\n",
    "\n"
   ]
  },
  {
   "cell_type": "markdown",
   "metadata": {},
   "source": [
    "\n",
    "## Listas de opciones y booleanos"
   ]
  },
  {
   "cell_type": "code",
   "execution_count": 34,
   "metadata": {
    "collapsed": false
   },
   "outputs": [],
   "source": [
    "w = widgets.Dropdown(\n",
    "    options=['1', '2', '3'],\n",
    "    value='2',\n",
    "    description='Number:',\n",
    ")\n",
    "\n",
    "\n",
    "\n",
    "rb=widgets.RadioButtons(\n",
    "    description='Pizza topping:',\n",
    "    options=['pepperoni', 'pineapple', 'anchovies'],\n",
    ")\n",
    "\n",
    "\n",
    "\n",
    "s=widgets.Select(\n",
    "    description='OS:',\n",
    "    options=['Linux', 'Windows', 'OSX'],\n",
    ")\n",
    "\n",
    "tb=widgets.ToggleButtons(\n",
    "    description='Speed:',\n",
    "    options=['Slow', 'Regular', 'Fast'],\n",
    ")\n",
    "\n",
    "display(w)\n",
    "display(rb)\n",
    "display(s)\n",
    "display(tb)\n",
    "\n",
    "\n"
   ]
  },
  {
   "cell_type": "markdown",
   "metadata": {},
   "source": [
    "## Botones"
   ]
  },
  {
   "cell_type": "code",
   "execution_count": 35,
   "metadata": {
    "collapsed": false
   },
   "outputs": [
    {
     "name": "stdout",
     "output_type": "stream",
     "text": [
      "Button clicked.\n",
      "Button clicked.\n",
      "Button clicked.\n",
      "Button clicked.\n"
     ]
    }
   ],
   "source": [
    "button = widgets.Button(description=\"Click Me!\")\n",
    "display(button)\n",
    "\n",
    "def on_button_clicked(b):\n",
    "    print(\"Button clicked.\")\n",
    "\n",
    "button.on_click(on_button_clicked)"
   ]
  },
  {
   "cell_type": "markdown",
   "metadata": {},
   "source": [
    "### Interact \n",
    "\n",
    "A parte de los widgets mostrados arriba hay muchos mas \n",
    "http://nbviewer.jupyter.org/github/quantopian/ipython/blob/master/examples/Interactive%20Widgets/Widget%20List.ipynb\n",
    "http://ipywidgets.readthedocs.io/en/latest/examples/Widget%20List.html#\n",
    "\n",
    "Sin embargo no es necesario conocerlos todos, ni como se llaman sus eventos y propiedades. Existe una forma de crear widgets automáticamente: *interact*"
   ]
  },
  {
   "cell_type": "code",
   "execution_count": 16,
   "metadata": {
    "collapsed": false
   },
   "outputs": [
    {
     "name": "stdout",
     "output_type": "stream",
     "text": [
      "Hola\n"
     ]
    }
   ],
   "source": [
    "def f(x):\n",
    "    print(x)\n",
    "    \n",
    "# Interact recibe 2 parámetros.\n",
    "# el primero es la función que trabaja con el segundo\n",
    "interact(f,x=10)\n",
    "interact(f,x=True)\n",
    "interact(f,x=\"Hola\")\n",
    "\n",
    "\n",
    "# interactive es como interact pero en lugar de mostrar el widget\n",
    "# lo devuelve para que hagamos con el lo que queramos\n",
    "widget=interactive(f,x=\"Hola\")\n"
   ]
  },
  {
   "cell_type": "markdown",
   "metadata": {
    "collapsed": true
   },
   "source": [
    "## Contenedores\n",
    "\n",
    "(ojo, a veces no funciona)"
   ]
  },
  {
   "cell_type": "code",
   "execution_count": 36,
   "metadata": {
    "collapsed": false
   },
   "outputs": [],
   "source": [
    "\n",
    "b1 = Button(description=\"Arriba\")\n",
    "b2 = Button(description=\"Abajo\")\n",
    "\n",
    "b3 = Button(description=\"Derecha\")\n",
    "b4 = Button(description=\"izquierda\")\n",
    "\n",
    "box1=VBox([b1,b2])\n",
    "box2=HBox([b3,b4])\n",
    "\n",
    "\n",
    "box3=HBox([box1,box2])\n",
    "\n"
   ]
  },
  {
   "cell_type": "code",
   "execution_count": 37,
   "metadata": {
    "collapsed": false
   },
   "outputs": [],
   "source": [
    "display(box1)"
   ]
  },
  {
   "cell_type": "code",
   "execution_count": 19,
   "metadata": {
    "collapsed": false
   },
   "outputs": [],
   "source": [
    "display(box2)\n"
   ]
  },
  {
   "cell_type": "code",
   "execution_count": 38,
   "metadata": {
    "collapsed": false
   },
   "outputs": [],
   "source": [
    "display(box3)\n"
   ]
  },
  {
   "cell_type": "code",
   "execution_count": 39,
   "metadata": {
    "collapsed": false
   },
   "outputs": [],
   "source": [
    "#### Otro ejemplo\n",
    "\n",
    "\n",
    "up = Button(description=\"^\")\n",
    "down = Button(description=\"v\")\n",
    "\n",
    "\n",
    "right = Button(description=\">\")\n",
    "left = Button(description=\"<\")\n",
    "\n",
    "empty=Button(description=\" \")\n",
    "empty.margin=1\n",
    "\n",
    "box4=VBox([HBox([empty,up,empty]),HBox([left,down,right])])\n",
    "\n",
    "display(box4)\n"
   ]
  },
  {
   "cell_type": "code",
   "execution_count": null,
   "metadata": {
    "collapsed": true
   },
   "outputs": [],
   "source": []
  },
  {
   "cell_type": "code",
   "execution_count": null,
   "metadata": {
    "collapsed": true
   },
   "outputs": [],
   "source": []
  }
 ],
 "metadata": {
  "kernelspec": {
   "display_name": "Python 3",
   "language": "python",
   "name": "python3"
  },
  "language_info": {
   "codemirror_mode": {
    "name": "ipython",
    "version": 3
   },
   "file_extension": ".py",
   "mimetype": "text/x-python",
   "name": "python",
   "nbconvert_exporter": "python",
   "pygments_lexer": "ipython3",
   "version": "3.5.2"
  },
  "widgets": {
   "state": {
    "297a2f969f7f4de98c824bba2c8b7555": {
     "views": [
      {
       "cell_index": 19
      }
     ]
    },
    "87f9d1656f8b4e369940e8481adc349f": {
     "views": [
      {
       "cell_index": 19
      }
     ]
    },
    "a2e484db7754429c9a6d2ac4a84c24cb": {
     "views": [
      {
       "cell_index": 19
      }
     ]
    },
    "be8c748d0af9471da467c3e7109c9b84": {
     "views": [
      {
       "cell_index": 15
      },
      {
       "cell_index": 15
      }
     ]
    },
    "c051c8064ad04649979377916d2a697f": {
     "views": [
      {
       "cell_index": 19
      }
     ]
    }
   },
   "version": "1.2.0"
  }
 },
 "nbformat": 4,
 "nbformat_minor": 0
}
