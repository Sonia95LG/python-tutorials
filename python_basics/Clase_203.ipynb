{
 "cells": [
  {
   "cell_type": "markdown",
   "metadata": {
    "slideshow": {
     "slide_type": "-"
    }
   },
   "source": [
    "# Sistemas Inteligentes\n",
    "\n",
    "## Grado en Ingeniería Informática\n",
    "## Universidad de Burgos\n",
    "## José Francisco  Diez\n",
    "## Curso 2016-2017\n",
    "------"
   ]
  },
  {
   "cell_type": "markdown",
   "metadata": {
    "collapsed": true
   },
   "source": [
    "## Orientación a objetos.\n",
    "\n",
    "- No hay comprobación de tipos en compilación.\n",
    "- Se asume que el objeto soporta un conjunto de comportamientos definidos.\n",
    "- Si esto no es así, produce error en tiempo de ejecución.\n",
    "\n",
    "### Clases abstractas\n",
    "- No pueden ser instanciadas.\n",
    "- Las clases concretas heredan de las abstractas y proporcionan implementaciones de los métodos declarados en la clase abstracta.\n",
    "\n",
    "### Encapsulación\n",
    "- No está soportada en python.\n",
    "- Se hace por convenio de nombres. Un miembro de una clase que comience por \"-\" es privado y no debería usarse fuera de la clase.\n",
    "---\n",
    "\n",
    "### Clases\n",
    "- Se definen con la palabra reservada *class* seguida del nombre de la clase, dos puntos y el cuerpo indentado.\n",
    "- El cuerpo incluye las definiciones de todos los métodos de la clase.\n",
    "- Los métodos se definen como funciones normales, pero con un parámetro especial llamado *self*.\n",
    "    - Este parámetro identifica la instancia sobre la que se invoca el método (como *this* en java).\n",
    "    - Al invocar el método no hay que pasar nada a *self*, se invoca con el resto de parámetros.\n",
    "- El constructor es un método especial llamado \\__init\\__    \n",
    "\n",
    "- Otro método especial es \\__str\\__ que al invocarlo devuelve una representación de esa clase.\n",
    "\n"
   ]
  },
  {
   "cell_type": "code",
   "execution_count": 6,
   "metadata": {
    "collapsed": false
   },
   "outputs": [
    {
     "name": "stdout",
     "output_type": "stream",
     "text": [
      "Renault va a 0 km/h\n",
      "Seat va a 0 km/h\n",
      "Renault va a 3 km/h\n",
      "Seat va a 1 km/h\n",
      "Renault va a 0 km/h\n",
      "Seat va a 1 km/h\n"
     ]
    }
   ],
   "source": [
    "\n",
    "\n",
    "class Coche:\n",
    "    \"\"\" \n",
    "    Los comentarios con triple comilla son comentarios de clase o metodos\n",
    "    pueden ocupar varias lineas.\n",
    "    \"\"\"\n",
    "    def __init__(self,nombre):\n",
    "        self._nombre = nombre\n",
    "        self._velocidad = 0\n",
    "    def acelera(self):\n",
    "        self._velocidad=self._velocidad+1\n",
    "    def frena(self):\n",
    "        self._velocidad=0\n",
    "    def __str__(self):\n",
    "        return self._nombre+\" va a \"+str(self._velocidad)+\" km/h\"\n",
    "\n",
    "coche1=Coche(\"Renault\")\n",
    "coche2=Coche(\"Seat\")\n",
    "print(coche1)\n",
    "print(coche2)\n",
    "coche1.acelera()\n",
    "coche1.acelera()\n",
    "coche1.acelera()\n",
    "coche2.acelera()\n",
    "print(coche1)\n",
    "print(coche2)\n",
    "coche1.frena()\n",
    "\n",
    "print(coche1)\n",
    "print(coche2)\n",
    "        "
   ]
  },
  {
   "cell_type": "markdown",
   "metadata": {},
   "source": [
    "## Modulos\n",
    "\n",
    "- Hay multitud de funciones (**print**) y clases (**list**) definidas en el espacio de nombres de usuario.\n",
    "- Se pueden añadir bibliotecas adicionales haciendo uso de la sentencia **import**\n",
    "- Los modulos están estructurados en paquetes. Ej sound.effects.surround.py significa que el módulo surround está dentro del paquete sound en el subpaquete effects.\n",
    "\n",
    "\n"
   ]
  },
  {
   "cell_type": "markdown",
   "metadata": {},
   "source": [
    "- Importar elementos concretos. Queda accesible sin usar el nombre completo.\n",
    "```Python\n",
    "from math import pi, sqrt\n",
    "print(pi)\n",
    "\n",
    "```\n",
    "- Importar todo el modulo (No recomendable porque algunos nombres podrían estar ya en uso)\n",
    "```Python\n",
    "from math import *   \n",
    "```\n",
    "- Importar el modulo, se debe usar el nombre completo.\n",
    "```Python\n",
    "import math \n",
    "print(math.pi)\n",
    "```\n",
    "(Nota: si importas con *from*, ya vas a tener el nombre accesible, aunque luego lo borres e importes solo con *import*)\n",
    "    \n",
    "\n",
    "---\n",
    "\n",
    "Se puede crear un módulo simplemente creando un fichero con extensión **.py**\n",
    "- Las definiciones de dicho fichero se pueden importar desde cualquier otro modulo del mismo directorio. O desde el modulo *main*.\n",
    "El modulo main es el conjunto de variables y funciones que se pueden acceder desde el interprete."
   ]
  },
  {
   "cell_type": "code",
   "execution_count": 1,
   "metadata": {
    "collapsed": false
   },
   "outputs": [
    {
     "data": {
      "text/plain": [
       "'__main__'"
      ]
     },
     "execution_count": 1,
     "metadata": {},
     "output_type": "execute_result"
    }
   ],
   "source": [
    "# __name__ te dice el nombre del modulo en el que estas\n",
    "__name__"
   ]
  },
  {
   "cell_type": "markdown",
   "metadata": {
    "collapsed": true
   },
   "source": [
    "- A parte de definiciones de variables y definiciones de funciones, un módulo puede tener más código. Ese código solo se ejecuta una vez, al importarlo.\n",
    "\n",
    "- Tambien se puede ejecutar un modulo como un programa. \n",
    "\n",
    "```Python\n",
    "if __name__ == \"__main__\":\n",
    "    import sys\n",
    "    fib(int(sys.argv[1]))\n",
    "```\n",
    "Si el módulo en el que está este fragmento se ejecuta desde el inteprete, entonces se invocan las expresiones que estén dentro de ese **if**"
   ]
  },
  {
   "cell_type": "code",
   "execution_count": 7,
   "metadata": {
    "collapsed": false
   },
   "outputs": [
    {
     "name": "stdout",
     "output_type": "stream",
     "text": [
      "1 1 2 3 5 8 13 21 34 55 89 144 233 377 \n"
     ]
    }
   ],
   "source": [
    "# hay un fichero fibo.py en el mismo directorio\n",
    "\n",
    "from fibo import fib, fib2\n",
    "fib(500)"
   ]
  }
 ],
 "metadata": {
  "kernelspec": {
   "display_name": "Python 3",
   "language": "python",
   "name": "python3"
  },
  "language_info": {
   "codemirror_mode": {
    "name": "ipython",
    "version": 3
   },
   "file_extension": ".py",
   "mimetype": "text/x-python",
   "name": "python",
   "nbconvert_exporter": "python",
   "pygments_lexer": "ipython3",
   "version": "3.5.2"
  }
 },
 "nbformat": 4,
 "nbformat_minor": 0
}
