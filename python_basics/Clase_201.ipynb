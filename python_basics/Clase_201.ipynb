{
 "cells": [
  {
   "cell_type": "markdown",
   "metadata": {
    "slideshow": {
     "slide_type": "-"
    }
   },
   "source": [
    "# Sistemas Inteligentes\n",
    "\n",
    "## Grado en Ingeniería Informática\n",
    "## Universidad de Burgos\n",
    "## José Francisco  Diez\n",
    "## Curso 2016-2017\n",
    "------"
   ]
  },
  {
   "cell_type": "markdown",
   "metadata": {},
   "source": [
    "Esto es un notebook.\n",
    "\n",
    "Hay varios tipos de celda de los que nos interesa principalmente:\n",
    "- Markdown\n",
    "- Code\n",
    "\n",
    "Las celdas de tipo Markdown son de texto enrriquecido.\n",
    "\n",
    "Se tienen títulos y subtitulos usando #, ##, ### etc\n",
    "\n",
    "# Título.\n",
    "## Subtítulo.\n",
    "### Subtítulo más pequeño.\n",
    "\n",
    "Las listas se hacen simplemente con el caracter - delante de cada item.\n",
    "Lista:\n",
    "- item 1\n",
    "- item 2\n",
    "\n",
    "Las listas numeradas se hacen con 1. 2. etc (la numeración no es automática) Ejemplo:\n",
    "1. item 1\n",
    "2. item 2\n",
    "\n",
    "Para hacer una línear horizontal y separar partes de una celda markdown se pueden usar 3 o más separadores sean *, - o _\n",
    "\n",
    "***\n",
    "\n",
    "#### Formato de carácter\n",
    "\n",
    "\n",
    "Esto es  *itálica* esto es **negrita**, y esto es ***itálica y negrita***\n",
    "\n",
    "#### Embeber código\n",
    "\n",
    "Se puede embeber un bloque de código con un triple backquote , seguido del nombre de lenguaje y cerrando el bloque otra vez con un triple backquote.\n",
    "\n",
    "\n",
    "```Python\n",
    "for i in range(10):\n",
    "    print(i)\n",
    "\n",
    "```\n",
    "\n",
    "\n",
    "```python\n",
    "print \"Hello World\"\n",
    "```\n",
    "\n",
    "Más información en:\n",
    "- http://jupyter-notebook.readthedocs.io/en/latest/examples/Notebook/Working%20With%20Markdown%20Cells.html \n",
    "- https://github.com/adam-p/markdown-here/wiki/Markdown-Here-Cheatsheet"
   ]
  },
  {
   "cell_type": "markdown",
   "metadata": {},
   "source": [
    "***\n",
    "Las celdas de tipo Code se utilizan para incluir código, una celda puede definir una función o una variable y se puede utilizar en celdas posteriores.\n",
    "Las celdas se ejecutan desde el botón *run cell*\n",
    "Una celda devuelve el resultado de evaluar la última línea y produce las salidas que se hayan indicado.\n",
    "***\n",
    "\n",
    "Ahora vamos a ver algunos conceptos básicos del lenguaje python."
   ]
  },
  {
   "cell_type": "code",
   "execution_count": 1,
   "metadata": {
    "collapsed": false
   },
   "outputs": [
    {
     "data": {
      "text/plain": [
       "10.5"
      ]
     },
     "execution_count": 1,
     "metadata": {},
     "output_type": "execute_result"
    }
   ],
   "source": [
    "# Los comentarios empiezan con # y comentan una línea\n",
    "\n",
    "# Es un lenguaje orientado en objetos\n",
    "\n",
    "temperatura = 10.5 # crea el identificador temperatura y le asigna a un objeto de tipo float\n",
    "temperatura\n",
    "\n",
    "# en python los bloques de código se definen con indentaciones (tabulador)"
   ]
  },
  {
   "cell_type": "code",
   "execution_count": 2,
   "metadata": {
    "collapsed": false
   },
   "outputs": [
    {
     "name": "stdout",
     "output_type": "stream",
     "text": [
      "0 1\n"
     ]
    }
   ],
   "source": [
    "# Es case sensitive\n",
    "# print(Temperatura) daría error\n",
    "# se pueden hacer varias asignaciones en una línea separando por ;\n",
    "i = 0; j = 1\n",
    "\n",
    "print(i,j)\n"
   ]
  },
  {
   "cell_type": "code",
   "execution_count": 3,
   "metadata": {
    "collapsed": false
   },
   "outputs": [
    {
     "name": "stdout",
     "output_type": "stream",
     "text": [
      "11.0\n",
      "hola mundo\n",
      "hola0.5\n"
     ]
    }
   ],
   "source": [
    "# un identificador en python es como un identificador en java o un puntero en C\n",
    "# Puede ser nulo haciendo que valga None\n",
    "nada = None\n",
    "\n",
    "cadena = \"hola\"\n",
    "\n",
    "# no se especifica un tipo, pero los identificadores tienen el tipo del valor asociado\n",
    "print(temperatura + 0.5)\n",
    "print(cadena + \" mundo\")\n",
    "\n",
    "# no se podría sumar cadena y 0.5 directamente\n",
    "# si se podría si antes hacemos la conversión de 0.5 de float a str\n",
    "print(cadena + str(0.5))\n"
   ]
  },
  {
   "cell_type": "code",
   "execution_count": 102,
   "metadata": {
    "collapsed": false
   },
   "outputs": [
    {
     "name": "stdout",
     "output_type": "stream",
     "text": [
      "[1, 2, 3, 5, 10]\n",
      "[1, 2, 3, 5, 10]\n",
      "11.5\n",
      "10.5\n",
      "Y EL DIJO: \"DON'T WORRY\"\n",
      "Y el dijo: \"Don't worry\"\n"
     ]
    }
   ],
   "source": [
    "# se puede hacer que un identificador apunte a otro\n",
    "\n",
    "\n",
    "# cuando modificando el nuevo indentificador se afecta al primero se llama aliasing\n",
    "\n",
    "#python tiene aliasing en algunos tipos como las listas\n",
    "lista = [1,5,2,3,10]\n",
    "lista2= lista\n",
    "lista2.sort()\n",
    "\n",
    "print(lista)\n",
    "print(lista2)\n",
    "\n",
    "# otros como los de tipo número o cadena no tienen aliasing\n",
    "tempNueva = temperatura\n",
    "tempNueva = tempNueva + 1\n",
    "print(tempNueva)\n",
    "print(temperatura)\n",
    "\n",
    "cadena2 = cadena\n",
    "cadena2=cadena2.upper()\n",
    "\n",
    "print(cadena2)\n",
    "print(cadena)\n",
    "\n"
   ]
  },
  {
   "cell_type": "code",
   "execution_count": 9,
   "metadata": {
    "collapsed": false,
    "scrolled": true
   },
   "outputs": [
    {
     "name": "stdout",
     "output_type": "stream",
     "text": [
      "0 10\n"
     ]
    }
   ],
   "source": [
    "# En python los objetos se instancian solamente llamando al constructor\n",
    "# no hace falta el 'new' como en java\n",
    "\n",
    "a = int() # por defecto vale 0\n",
    "b = int(10)\n",
    "print(a,b)\n",
    "\n",
    "# tambien se puede crear un objeto llamando a una función que devuelva un objeto"
   ]
  },
  {
   "cell_type": "markdown",
   "metadata": {},
   "source": [
    "## Tipos básicos de datos\n",
    "\n",
    "* booleano: Valor booleano\n",
    "* int: Valor entero\n",
    "* float: Valor en coma flotante\n",
    "* list: secuencia mutable de objetos\n",
    "* tuple: secuencia inmutable de objetos\n",
    "* str: cadena de caracteres:\n",
    "* set: conjunto de objetos (sin orden)\n",
    "* frozenset: conjunto inmutabke\n",
    "* dict: diccionario o mapa asociativo\n",
    "\n",
    "Listas, sets y diccionarios son mutables, despues de asignarse por primera vez pueden cambiar. Pueden sufrir aliasing.\n",
    "\n",
    "El resto son inmutables, una vez creado no se pueden cambiar. Pero se pueden reasignar.\n",
    "\n"
   ]
  },
  {
   "cell_type": "markdown",
   "metadata": {},
   "source": [
    "## booleanos\n",
    "* Solo dos instancias, literales True y False.\n",
    "* Constructor por defecto: bool(), devuelve False.\n",
    "* Obtener un booleano a partir de no booleanos: bool(x). \n",
    "* Numéricos, cadenas y secuencias se pueden usar como booleanos.\n",
    "    * Numéricos: False si 0, si no True.\n",
    "    * Cadenas, secuencias, contenedores: False si vacías."
   ]
  },
  {
   "cell_type": "code",
   "execution_count": 10,
   "metadata": {
    "collapsed": false
   },
   "outputs": [
    {
     "name": "stdout",
     "output_type": "stream",
     "text": [
      "10\n",
      "9\n",
      "8\n",
      "7\n",
      "6\n",
      "5\n",
      "4\n",
      "3\n",
      "2\n",
      "1\n"
     ]
    }
   ],
   "source": [
    "n = 10\n",
    "while n:\n",
    "    print(n)\n",
    "    n-=1\n",
    "    \n",
    "# en python los bloques de código se definen con indentaciones (tabulador)\n",
    "# no llaves como java o c"
   ]
  },
  {
   "cell_type": "markdown",
   "metadata": {},
   "source": [
    "## Enteros\n",
    "\n",
    "* Enteros de magnitud arbitraria. Se elige la representación interna basada en la magnitud.\n",
    "    * No como en C que habia shot, long\n",
    "* Binario (0b), octal (0o), hexadecimal (0x): \n",
    "    * binario 0b1011.\n",
    "    * octal 0o52.\n",
    "    * hexadecimal 0x7f.\n",
    "* int(x) para obtener un entero a partir de algunos tipos. int () devuelve 0.\n",
    "int(True).\n",
    "Dado un número real trunca: int (3.14).\n",
    "Dada una cadena, intenta convertirla en entero: int( ’137’).\n",
    "Argumento adicional indicando la base: int( ’7f ’ , 16)."
   ]
  },
  {
   "cell_type": "code",
   "execution_count": 12,
   "metadata": {
    "collapsed": false
   },
   "outputs": [
    {
     "data": {
      "text/plain": [
       "1"
      ]
     },
     "execution_count": 12,
     "metadata": {},
     "output_type": "execute_result"
    }
   ],
   "source": [
    "int(True)"
   ]
  },
  {
   "cell_type": "code",
   "execution_count": 13,
   "metadata": {
    "collapsed": false
   },
   "outputs": [
    {
     "data": {
      "text/plain": [
       "3"
      ]
     },
     "execution_count": 13,
     "metadata": {},
     "output_type": "execute_result"
    }
   ],
   "source": [
    "# un flotante lo trunca\n",
    "int(3.14159265)"
   ]
  },
  {
   "cell_type": "code",
   "execution_count": 17,
   "metadata": {
    "collapsed": false
   },
   "outputs": [
    {
     "data": {
      "text/plain": [
       "137"
      ]
     },
     "execution_count": 17,
     "metadata": {},
     "output_type": "execute_result"
    }
   ],
   "source": [
    "# una cadena si representa un número entero lo combierte\n",
    "int(\"137\")"
   ]
  },
  {
   "cell_type": "code",
   "execution_count": 31,
   "metadata": {
    "collapsed": false
   },
   "outputs": [
    {
     "data": {
      "text/plain": [
       "160"
      ]
     },
     "execution_count": 31,
     "metadata": {},
     "output_type": "execute_result"
    }
   ],
   "source": [
    "# se puede especificar la base\n",
    "# no se limita solo a 2,8,10 y 16 puede ser cualquiera\n",
    "valor=int( \"A0\" , 16)\n",
    "print(valor)"
   ]
  },
  {
   "cell_type": "markdown",
   "metadata": {},
   "source": [
    "## Float\n",
    "\n",
    "* Único tipo para números reales (no hay float y double).\n",
    "* Precisión fija, similar a un double en otros lenguajes.\n",
    "* 2. es lo mismo que 2.0.\n",
    "* La salida usa notación científica.\n",
    "* Constructor float () devuelve 0.0. float(x) intenta convertir a float.\n",
    "\n"
   ]
  },
  {
   "cell_type": "code",
   "execution_count": 39,
   "metadata": {
    "collapsed": false
   },
   "outputs": [
    {
     "name": "stdout",
     "output_type": "stream",
     "text": [
      "2.0\n",
      "3.14\n",
      "True\n",
      "2.865e+18\n"
     ]
    }
   ],
   "source": [
    "print (float (2))\n",
    "print (float ( \"3.14\" ))\n",
    "\n",
    "# 2 es lo mismo que \n",
    "print(2 == 2.0)\n",
    "\n",
    "# notación científica\n",
    "print(2.865*1000000000000000000)"
   ]
  },
  {
   "cell_type": "markdown",
   "metadata": {},
   "source": [
    "## Secuencias\n",
    "\n",
    "Hay 3 tipos de secuencias:\n",
    "- list: secuencia de objetos.\n",
    "- tuple: versión inmutable de list\n",
    "- str: secuencia inmutable de caracteres. No hay un tipo caracter, un caracter sería una secuencia de longitud 1."
   ]
  },
  {
   "cell_type": "code",
   "execution_count": 47,
   "metadata": {
    "collapsed": false
   },
   "outputs": [
    {
     "name": "stdout",
     "output_type": "stream",
     "text": [
      "[7, None, 3.14, 'hola']\n",
      "4\n",
      "3.14\n",
      "[7, None, 5, 'hola']\n",
      "[]\n",
      "['h', 'o', 'l', 'a']\n"
     ]
    }
   ],
   "source": [
    "# una lista puede contener objetos de distinto tipo\n",
    "lista = [7, None, 3.14, \"hola\"]\n",
    "print(lista)\n",
    "print(len(lista))\n",
    "\n",
    "# los indices empiezan en 0\n",
    "print(lista[2])\n",
    "lista[2]=5\n",
    "print(lista)\n",
    "\n",
    "# el constructor crea una lista vacia si no hay argumentos\n",
    "\n",
    "lista = list()\n",
    "print(lista)\n",
    "\n",
    "# o intenta iterar sobre todos los elementos de una colección\n",
    "\n",
    "lista = list(\"hola\")\n",
    "print(lista)"
   ]
  },
  {
   "cell_type": "code",
   "execution_count": 72,
   "metadata": {
    "collapsed": false
   },
   "outputs": [
    {
     "name": "stdout",
     "output_type": "stream",
     "text": [
      "()\n",
      "(7, None, 3.14, 'hola')\n",
      "4\n",
      "7\n"
     ]
    }
   ],
   "source": [
    "# las tuplas son con parentesis en lugar de corchete\n",
    "tupla = tuple()\n",
    "print(tupla)\n",
    "\n",
    "tupla = (7, None, 3.14, \"hola\")\n",
    "print(tupla)\n",
    "print(len(lista))\n",
    "\n",
    "# se pueden consultar elementos, pero tratar de actualizar uno daría error\n",
    "print(tupla[0])\n",
    "\n",
    "#tupla[0]=1"
   ]
  },
  {
   "cell_type": "code",
   "execution_count": 74,
   "metadata": {
    "collapsed": false
   },
   "outputs": [
    {
     "name": "stdout",
     "output_type": "stream",
     "text": [
      "Y el dijo: \"hola\"\n",
      "Y el dijo: \"Don't worry\"\n",
      "Hola  mundo\n"
     ]
    }
   ],
   "source": [
    "# str son secuencias inmutables de caracteres en unicode\n",
    "# se pueden usar \" o '.\n",
    "# Si se usa un tipo de comilla se puede incluir el otro\n",
    "cadena = 'Y el dijo: \"hola\"'\n",
    "print(cadena)\n",
    "\n",
    "# Sino habría que escaparlo con \\\n",
    "cadena = 'Y el dijo: \"Don\\'t worry\"'\n",
    "print(cadena)\n",
    "\n",
    "# \\t es tabulador \\n y ''' o \"\"\" es salto de página\n",
    "\n",
    "# el operador + en el caso de cadenas concatena\n",
    "\n",
    "cadena2 = \"Hola \"+\" mundo\"\n",
    "print(cadena2)"
   ]
  },
  {
   "cell_type": "markdown",
   "metadata": {},
   "source": [
    "### Más sobre secuencias"
   ]
  },
  {
   "cell_type": "code",
   "execution_count": 97,
   "metadata": {
    "collapsed": false
   },
   "outputs": [
    {
     "name": "stdout",
     "output_type": "stream",
     "text": [
      "1\n",
      "[5, 6, 7, 8, 9]\n",
      "[0, 1, 2, 3, 4]\n",
      "[0, 1, 2, 3, 4, 5, 6, 7, 8, 9]\n",
      "[2, 4, 6, 8]\n",
      "[9, 8, 7, 6, 5, 4, 3, 2, 1, 0]\n",
      "9\n",
      "8\n",
      "[0, 1, 2, 3, 4, 5, 6, 7, 8, 9, 10, 11]\n"
     ]
    }
   ],
   "source": [
    "lista = [0,1,2,3,4,5,6,7,8,9]\n",
    "\n",
    "print(lista[1])\n",
    "\n",
    "print(lista[5:]) # desde el 5 hasta el final\n",
    "print(lista[:5]) # hasta el 5\n",
    "print(lista[::]) #Todo\n",
    "print(lista[2:9:2]) # del 2 al 8 de 2 en dos\n",
    "print(lista[::-1]) #Todo del reves\n",
    "print(lista[-1])  # se puede acceder a indices negativos\n",
    "print(lista[-2])\n",
    "\n",
    "lista2 = [10,11]\n",
    "print(lista + lista2)\n"
   ]
  },
  {
   "cell_type": "code",
   "execution_count": 2,
   "metadata": {
    "collapsed": false
   },
   "outputs": [
    {
     "name": "stdout",
     "output_type": "stream",
     "text": [
      "[1, 2, 3, 4, 4, 4, 4]\n",
      "{1, 2, 3, 4}\n",
      "False\n",
      "True\n"
     ]
    }
   ],
   "source": [
    "# diferencia fundamental entre listas y set:\n",
    "#En listas hay duplicados e importa el orden\n",
    "\n",
    "l = [1,2,3]\n",
    "s = {1,2,3}\n",
    "\n",
    "l.append(4)\n",
    "l.append(4)\n",
    "l.append(4)\n",
    "l.append(4)\n",
    "\n",
    "s.add(4)\n",
    "s.add(4)\n",
    "s.add(4)\n",
    "s.add(4)\n",
    "\n",
    "print(l)\n",
    "print(s)\n",
    "\n",
    "l1=[1,2]\n",
    "l2=[2,1]\n",
    "\n",
    "s1={1,2}\n",
    "s2={2,1}\n",
    "\n",
    "print(l1==l2)\n",
    "print(s1==s2)"
   ]
  },
  {
   "cell_type": "markdown",
   "metadata": {},
   "source": [
    "## set y frozenset\n",
    "\n",
    "- Son conjuntos de elementos, sin duplicados y sin un orden.\n",
    "- Función principal: determinar si un elemento esa en el conjunto es muy eficiente. (Basados en tablas hash)\n",
    "- Podemos tener un conjunto de tuplas, pero no de listas. **Solo se pueden añadir a un conjunto elementos de tipos inmutables**.\n",
    "- operaciones de subconjuntos, unión interseccion y diferencia\n",
    "\n",
    "\n"
   ]
  },
  {
   "cell_type": "code",
   "execution_count": 68,
   "metadata": {
    "collapsed": false
   },
   "outputs": [
    {
     "name": "stdout",
     "output_type": "stream",
     "text": [
      "{1, 2, 3}\n",
      "{2, 3, 4}\n",
      "True\n"
     ]
    }
   ],
   "source": [
    "set1 = {1,2,3} # o set1= set([1,2,3])\n",
    "\n",
    "print(set1)\n",
    "set1.add(4)\n",
    "set1.discard(1)\n",
    "print(set1)\n",
    "# con frozenset darían error los intentos de actualizar el set\n",
    "\n",
    "# se comprueba la pertenencia con in\n",
    "print(4 in set1)"
   ]
  },
  {
   "cell_type": "code",
   "execution_count": null,
   "metadata": {
    "collapsed": true
   },
   "outputs": [],
   "source": []
  },
  {
   "cell_type": "code",
   "execution_count": 92,
   "metadata": {
    "collapsed": false
   },
   "outputs": [
    {
     "name": "stdout",
     "output_type": "stream",
     "text": [
      "True\n",
      "True\n",
      "{1, 2, 3, 4, 5, 6, 8, 10}\n",
      "{2, 4}\n",
      "{1, 3, 5}\n",
      "{1, 3, 5, 6, 8, 10}\n"
     ]
    }
   ],
   "source": [
    "set1 = {1,2,3,4,5}\n",
    "set1_1 = {3,2,1,5,4}\n",
    "set2 = {2,4,6,8,10}\n",
    "set2_mini = {2,4,6}\n",
    "\n",
    "print(set1==set1_1) # equivalencia\n",
    "print(set2_mini <= set2) #subconjunto\n",
    "print(set1 | set2) #union\n",
    "print(set1 & set2) #intersección\n",
    "print(set1 - set2) #diferencia\n",
    "print(set1 ^ set2) #solo en uno de los dos"
   ]
  },
  {
   "cell_type": "markdown",
   "metadata": {},
   "source": [
    "## Diccionarios\n",
    "\n",
    "- Diccionario que mapea un conjunto de claves distintas a sus valores asociados.\n",
    "\n",
    "- Al igual que los sets también se delimitan con llaves.\n",
    "- Se define con  Pares clave:valor, separados por comas.\n",
    "- El constructor también acepta una secuencia de pares clave - valor.\n",
    "- funciones de equivalencia y pertenencia\n"
   ]
  },
  {
   "cell_type": "code",
   "execution_count": 95,
   "metadata": {
    "collapsed": false
   },
   "outputs": [
    {
     "name": "stdout",
     "output_type": "stream",
     "text": [
      "1\n",
      "1.0\n",
      "False\n",
      "True\n"
     ]
    }
   ],
   "source": [
    "diccionario = {'uno' :1, 'dos':2}\n",
    "pares = [('uno', 1), ( 'dos' , 2)]\n",
    "diccionario = dict(pares)\n",
    "\n",
    "print(diccionario[\"uno\"])\n",
    "diccionario[\"uno\"]=1.0\n",
    "print(diccionario[\"uno\"])\n",
    "\n",
    "print('tres' in diccionario)\n",
    "diccionario['tres']=3\n",
    "\n",
    "print('tres' in diccionario)\n"
   ]
  },
  {
   "cell_type": "code",
   "execution_count": null,
   "metadata": {
    "collapsed": true
   },
   "outputs": [],
   "source": []
  },
  {
   "cell_type": "markdown",
   "metadata": {},
   "source": [
    "## Operadores lógicos y de igualdad\n",
    "\n",
    "- and, or y not\n",
    "- evaluación en cortocircuito, no se evalúa el segundo operando si se sabe el resultado con la evaluación del primero.\n",
    "- is, is not: Igualdad de objetos\n",
    "- ==, !=:  igualdad de valores\n"
   ]
  },
  {
   "cell_type": "code",
   "execution_count": 76,
   "metadata": {
    "collapsed": false
   },
   "outputs": [
    {
     "name": "stdout",
     "output_type": "stream",
     "text": [
      "False\n",
      "True\n",
      "True\n"
     ]
    }
   ],
   "source": [
    "lista1 = [1,2]\n",
    "lista2 = [1,2]\n",
    "lista3 = lista1\n",
    "\n",
    "print(lista1 is lista2)\n",
    "print(lista1 is lista3)\n",
    "\n",
    "print(lista1 == lista2)"
   ]
  },
  {
   "cell_type": "markdown",
   "metadata": {},
   "source": [
    "## Operadores de comparación y aritméticos\n",
    "\n",
    "- <,<=,>,>= (Funcionan tanto para números como para cadenas)\n",
    "- +,-,*,/,//,%/**"
   ]
  },
  {
   "cell_type": "code",
   "execution_count": 80,
   "metadata": {
    "collapsed": false
   },
   "outputs": [
    {
     "name": "stdout",
     "output_type": "stream",
     "text": [
      "True\n",
      "True\n",
      "6.25\n",
      "6\n",
      "1\n",
      "8\n"
     ]
    }
   ],
   "source": [
    "print(4<5)\n",
    "print(\"a\"<\"b\")\n",
    "\n",
    "\n",
    "print(25/4)\n",
    "print(25//4) # division entera\n",
    "print(25%4)  # modulo\n",
    "print(2**3)  # potencias\n"
   ]
  },
  {
   "cell_type": "markdown",
   "metadata": {},
   "source": [
    "## Control de flujo\n",
    "\n",
    "- El inicio del cuerpo son los :\n",
    "- La indentación determina la extensión del cuerpo\n",
    "\n",
    "### if\n",
    "```Python\n",
    "if primera condicion :\n",
    "    primer cuerpo\n",
    "elif segunda condicion:\n",
    "    segundo cuerpo\n",
    "elif tercera condicion :\n",
    "    tercer cuerpo\n",
    "else :\n",
    "    cuarto cuerpo\n",
    "```\n",
    "### While \n",
    "Bucle general basado en la comprobación repetida de una condición booleana.\n",
    "```Python\n",
    "n = 10\n",
    "while n:\n",
    "    print(n)\n",
    "    n-=1\n",
    "```\n",
    "\n",
    "### For\n",
    "Iteran sobre los valores de una lista, set u otra estructura iterable.\n",
    "```Python\n",
    "for elemento in iterable :\n",
    "    cuerpo\n",
    "```\n",
    "\n",
    "range genera secuencias de enteros personalizadas.\n",
    "\n",
    "Como en otros lenguajes:\n",
    "- break: termina el bucle\n",
    "- continue: termina la iteración actual"
   ]
  },
  {
   "cell_type": "code",
   "execution_count": 101,
   "metadata": {
    "collapsed": false
   },
   "outputs": [
    {
     "name": "stdout",
     "output_type": "stream",
     "text": [
      "0\n",
      "1\n",
      "2\n",
      "3\n",
      "4\n",
      "5\n",
      "6\n",
      "7\n",
      "8\n",
      "9\n",
      "\n",
      "\n",
      "7\n",
      "9\n",
      "11\n",
      "13\n"
     ]
    }
   ],
   "source": [
    "for i in lista:\n",
    "    print(i)\n",
    "\n",
    "print(\"\\n\")\n",
    "\n",
    "for i in range(7,15,2):\n",
    "    print(i)"
   ]
  },
  {
   "cell_type": "markdown",
   "metadata": {},
   "source": [
    "## Funciones\n",
    "\n",
    "- Los parámetros y el resultado no tiene tipos.\n",
    "- El cuerpo está indentado.\n",
    "- Los identificadores creados dentro del cuerpo tienen ámbito local.\n",
    "- Si no se devuelve nada, la función retornará None.\n",
    "\n",
    "```Python\n",
    "def count(data, target ):\n",
    "    n =0\n",
    "    for item in data:\n",
    "        if item == target:\n",
    "            n += 1\n",
    "return n\n",
    "```\n",
    "\n",
    "- Las funciones pueden tener valores por defecto para sus parámetros.\n",
    "```Python\n",
    "def f (a, b=15, c=27):\n",
    "...\n",
    "```\n",
    "Se puede llamar con 1, 2 ó 3 parámetros.\n",
    "Por ejemplo range se puede llamar con 1, 2 ó 3 parámetros \n",
    "```Python\n",
    "range(10) # de 0 hasta 10\n",
    "range(5,10) # de 5 hasta 10\n",
    "range(5,10,2) # de 5 hasta 10 contando de 2 en 2\n",
    "```"
   ]
  }
 ],
 "metadata": {
  "kernelspec": {
   "display_name": "Python 3",
   "language": "python",
   "name": "python3"
  },
  "language_info": {
   "codemirror_mode": {
    "name": "ipython",
    "version": 3
   },
   "file_extension": ".py",
   "mimetype": "text/x-python",
   "name": "python",
   "nbconvert_exporter": "python",
   "pygments_lexer": "ipython3",
   "version": "3.5.2"
  }
 },
 "nbformat": 4,
 "nbformat_minor": 0
}
